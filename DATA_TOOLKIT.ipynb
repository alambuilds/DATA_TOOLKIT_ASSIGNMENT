{
  "cells": [
    {
      "cell_type": "markdown",
      "metadata": {
        "id": "6moBTiF1xanK"
      },
      "source": [
        "# Data Toolkit"
      ]
    },
    {
      "cell_type": "markdown",
      "metadata": {
        "id": "iQY8hOP5xuSB"
      },
      "source": [
        "1.What is NumPy, and why is it widely used in Python?\n",
        "- NumPy (Numerical Python) is a library for numerical computing, providing powerful array objects and mathematical functions. It is widely used for scientific computing, data analysis, and machine learning due to its efficiency, speed, and ease of handling large datasets.\n",
        "\n"
      ]
    },
    {
      "cell_type": "markdown",
      "metadata": {
        "id": "plAjoepNx5Me"
      },
      "source": [
        "2. How does broadcasting work in NumPy?\n",
        "- Broadcasting allows NumPy to perform operations on arrays of different shapes by automatically expanding smaller arrays to match the dimensions of larger ones, avoiding unnecessary memory usage."
      ]
    },
    {
      "cell_type": "markdown",
      "metadata": {
        "id": "Hh9eelTpyBc6"
      },
      "source": [
        "3. What is a Pandas DataFrame?\n",
        "-  A Pandas DataFrame is a two-dimensional labeled data structure, similar to an Excel spreadsheet or SQL table, with rows and columns that can hold different data types."
      ]
    },
    {
      "cell_type": "markdown",
      "metadata": {
        "id": "ZYETZnCmyHJo"
      },
      "source": [
        "4. Explain the use of the groupby() method in Pandas?\n",
        "- The groupby() method is used to group data based on column values, allowing for aggregation operations such as sum, mean, count, and more.\n",
        "\n"
      ]
    },
    {
      "cell_type": "markdown",
      "metadata": {
        "id": "l9vi0NAKyPrg"
      },
      "source": [
        "5. Why is Seaborn preferred for statistical visualizations?\n",
        "- Seaborn provides built-in support for statistical plotting, offers attractive default themes, and integrates well with Pandas, making complex visualizations simple."
      ]
    },
    {
      "cell_type": "markdown",
      "metadata": {
        "id": "PMy3WUpEyWVH"
      },
      "source": [
        "6. What are the differences between NumPy arrays and Python lists?\n",
        "-  NumPy arrays are more efficient, support vectorized operations, and consume less memory compared to Python lists, which are slower and require looping for mathematical operations.\n",
        "\n"
      ]
    },
    {
      "cell_type": "markdown",
      "metadata": {
        "id": "Va1GNYH2yfGp"
      },
      "source": [
        "7. What is a heatmap, and when should it be used?\n",
        "-  A heatmap is a visual representation of data using colors to show intensity levels. It is used for correlation matrices, population density, and other grid-based data.\n",
        "\n"
      ]
    },
    {
      "cell_type": "markdown",
      "metadata": {
        "id": "9okRhn1wykOH"
      },
      "source": [
        "8. What does the term “vectorized operation” mean in NumPy?\n",
        "- Vectorized operations refer to performing element-wise operations on entire arrays without explicit loops, improving performance and efficiency."
      ]
    },
    {
      "cell_type": "markdown",
      "metadata": {
        "id": "f7mJV6SSyqiH"
      },
      "source": [
        "9. How does Matplotlib differ from Plotly?\n",
        "- Matplotlib is a static visualization library, while Plotly provides interactive and dynamic visualizations, making it more suitable for dashboards and web applications."
      ]
    },
    {
      "cell_type": "markdown",
      "metadata": {
        "id": "eASrcCk4yu7y"
      },
      "source": [
        "10. What is the significance of hierarchical indexing in Pandas?\n",
        "- Hierarchical indexing allows multiple levels of row and column labels in a DataFrame, enabling complex data structures and multi-level grouping.\n",
        "\n"
      ]
    },
    {
      "cell_type": "markdown",
      "metadata": {
        "id": "UY5v-ucCyzZm"
      },
      "source": [
        "11. What is the role of Seaborn’s pairplot() function?\n",
        "- pairplot() generates scatter plots for all numerical variable pairs in a dataset, helping in exploratory data analysis.\n",
        "\n"
      ]
    },
    {
      "cell_type": "markdown",
      "metadata": {
        "id": "_PzCSF2Ry5Yj"
      },
      "source": [
        "12. What is the purpose of the describe() function in Pandas?\n",
        "- describe() provides summary statistics for numerical columns, including count, mean, standard deviation, min, max, and percentiles."
      ]
    },
    {
      "cell_type": "markdown",
      "metadata": {
        "id": "4ftRPykLzBLU"
      },
      "source": [
        "13. Why is handling missing data important in Pandas?\n",
        "- Handling missing data prevents errors in analysis and ensures the accuracy of statistical models. Pandas provides methods like fillna() and dropna()."
      ]
    },
    {
      "cell_type": "markdown",
      "metadata": {
        "id": "8Ad9iiivzF7X"
      },
      "source": [
        "14. What are the benefits of using Plotly for data visualization?\n",
        "- Plotly offers interactive plots, supports 3D visualizations, and integrates well with web applications."
      ]
    },
    {
      "cell_type": "markdown",
      "metadata": {
        "id": "-4JxCgdezMhx"
      },
      "source": [
        "15. How does NumPy handle multidimensional arrays?\n",
        "- NumPy supports ndarray, a multi-dimensional array structure that allows efficient mathematical operations and reshaping."
      ]
    },
    {
      "cell_type": "markdown",
      "metadata": {
        "id": "ht3daf42zSOk"
      },
      "source": [
        "16. What is the role of Bokeh in data visualization?\n",
        "- Bokeh is a Python library for creating interactive and web-based visualizations, suitable for dashboards and real-time data updates."
      ]
    },
    {
      "cell_type": "markdown",
      "metadata": {
        "id": "cx06d6uozYG_"
      },
      "source": [
        "17. Explain the difference between apply() and map() in Pandas.\n",
        "- map() is used for element-wise transformations in a single Series, while apply() can be used on both Series and DataFrames to apply functions across rows or columns.\n",
        "\n"
      ]
    },
    {
      "cell_type": "markdown",
      "metadata": {
        "id": "tXClTxG3zeJz"
      },
      "source": [
        "18. What are some advanced features of NumPy?\n",
        "- NumPy supports broadcasting, masked arrays, linear algebra functions, FFT, and multi-dimensional indexing."
      ]
    },
    {
      "cell_type": "markdown",
      "metadata": {
        "id": "QdNhnFcCzjQQ"
      },
      "source": [
        "19. How does Pandas simplify time series analysis?\n",
        "- Pandas provides specialized date/time handling functions, resampling, time zone conversions, and rolling window operations."
      ]
    },
    {
      "cell_type": "markdown",
      "metadata": {
        "id": "6nXVpg9tzoZD"
      },
      "source": [
        "20. What is the role of a pivot table in Pandas?\n",
        "- A pivot table summarizes large datasets by aggregating values based on multiple columns, similar to Excel pivot tables."
      ]
    },
    {
      "cell_type": "markdown",
      "metadata": {
        "id": "0pQDMnrszsT_"
      },
      "source": [
        "21. Why is NumPy’s array slicing faster than Python’s list slicing?\n",
        "- NumPy arrays use contiguous memory allocation and optimized C implementations, making slicing operations significantly faster."
      ]
    },
    {
      "cell_type": "markdown",
      "metadata": {
        "id": "ld1FQVMgzwFT"
      },
      "source": [
        "22. What are some common use cases for Seaborn?\n",
        "- Seaborn is used for statistical plots like heatmaps, violin plots, pair plots, and regression plots in exploratory data analysis."
      ]
    },
    {
      "cell_type": "markdown",
      "metadata": {
        "id": "LdVUQNAjz1R_"
      },
      "source": [
        "#Practical"
      ]
    },
    {
      "cell_type": "code",
      "execution_count": null,
      "metadata": {
        "colab": {
          "base_uri": "https://localhost:8080/"
        },
        "id": "8Fr2DE13z5Ve",
        "outputId": "6bc2f6a8-ece6-47e8-cff9-38b2417b677c"
      },
      "outputs": [
        {
          "name": "stdout",
          "output_type": "stream",
          "text": [
            "[ 6 15 24]\n"
          ]
        }
      ],
      "source": [
        "# 1. Create a 2D NumPy array and calculate the sum of each row\n",
        "import numpy as np\n",
        "arr = np.array([[1, 2, 3], [4, 5, 6], [7, 8, 9]])\n",
        "row_sums = arr.sum(axis=1)\n",
        "print(row_sums)"
      ]
    },
    {
      "cell_type": "code",
      "execution_count": null,
      "metadata": {
        "colab": {
          "base_uri": "https://localhost:8080/"
        },
        "id": "jokr3Xid0o8x",
        "outputId": "7191a49c-d8aa-4348-aaf6-416cf0c9a926"
      },
      "outputs": [
        {
          "name": "stdout",
          "output_type": "stream",
          "text": [
            "20.0\n"
          ]
        }
      ],
      "source": [
        "# 2. Find the mean of a specific column in a Pandas DataFrame\n",
        "import pandas as pd\n",
        "data = {'A': [10, 20, 30], 'B': [40, 50, 60]}\n",
        "df = pd.DataFrame(data)\n",
        "mean_value = df['A'].mean()\n",
        "print(mean_value)"
      ]
    },
    {
      "cell_type": "code",
      "execution_count": null,
      "metadata": {
        "colab": {
          "base_uri": "https://localhost:8080/",
          "height": 472
        },
        "id": "N_-oVfE50uZT",
        "outputId": "9511bfa4-9e7c-46e6-973e-fc9dfc985926"
      },
      "outputs": [
        {
          "data": {
            "image/png": "[encoded data removed]",
            "text/plain": [
              "<Figure size 640x480 with 1 Axes>"
            ]
          },
          "metadata": {},
          "output_type": "display_data"
        }
      ],
      "source": [
        "# 3. Create a scatter plot using Matplotlib\n",
        "import matplotlib.pyplot as plt\n",
        "x = [1, 2, 3, 4, 5]\n",
        "y = [10, 20, 25, 30, 40]\n",
        "plt.scatter(x, y)\n",
        "plt.xlabel(\"X-axis\")\n",
        "plt.ylabel(\"Y-axis\")\n",
        "plt.title(\"Scatter Plot\")\n",
        "plt.show()"
      ]
    },
    {
      "cell_type": "code",
      "execution_count": 3,
      "metadata": {
        "colab": {
          "base_uri": "https://localhost:8080/",
          "height": 435
        },
        "id": "TkCZdyf203F7",
        "outputId": "19e17828-1f21-4d0f-9dc6-d8730dcb73c3"
      },
      "outputs": [
        {
          "data": {
            "image/png": "[encoded data removed]",
            "text/plain": [
              "<Figure size 640x480 with 2 Axes>"
            ]
          },
          "metadata": {},
          "output_type": "display_data"
        }
      ],
      "source": [
        "# 4. Calculate the correlation matrix using Seaborn and visualize it with a heatmap\n",
        "import seaborn as sns\n",
        "import numpy as np\n",
        "import pandas as pd\n",
        "data = np.random.rand(5, 5)\n",
        "df = pd.DataFrame(data, columns=['A', 'B', 'C', 'D', 'E'])\n",
        "corr_matrix = df.corr()\n",
        "sns.heatmap(corr_matrix, annot=True, cmap='coolwarm')\n",
        "import matplotlib.pyplot as plt\n",
        "plt.show()"
      ]
    },
    {
      "cell_type": "code",
      "execution_count": 1,
      "metadata": {
        "colab": {
          "base_uri": "https://localhost:8080/",
          "height": 542
        },
        "id": "9jV145s_7Hrb",
        "outputId": "0de075e3-40fb-4ae7-ba24-0ae3f4900a08"
      },
      "outputs": [
        {
          "ename": "ModuleNotFoundError",
          "evalue": "No module named 'plotly'",
          "output_type": "error",
          "traceback": [
            "\u001b[1;31m---------------------------------------------------------------------------\u001b[0m",
            "\u001b[1;31mModuleNotFoundError\u001b[0m                       Traceback (most recent call last)",
            "Cell \u001b[1;32mIn[1], line 2\u001b[0m\n\u001b[0;32m      1\u001b[0m \u001b[38;5;66;03m# 5. Generate a bar plot using Plotly\u001b[39;00m\n\u001b[1;32m----> 2\u001b[0m \u001b[38;5;28;01mimport\u001b[39;00m\u001b[38;5;250m \u001b[39m\u001b[38;5;21;01mplotly\u001b[39;00m\u001b[38;5;21;01m.\u001b[39;00m\u001b[38;5;21;01mexpress\u001b[39;00m\u001b[38;5;250m \u001b[39m\u001b[38;5;28;01mas\u001b[39;00m\u001b[38;5;250m \u001b[39m\u001b[38;5;21;01mpx\u001b[39;00m\n\u001b[0;32m      3\u001b[0m data \u001b[38;5;241m=\u001b[39m {\u001b[38;5;124m'\u001b[39m\u001b[38;5;124mCategory\u001b[39m\u001b[38;5;124m'\u001b[39m: [\u001b[38;5;124m'\u001b[39m\u001b[38;5;124mA\u001b[39m\u001b[38;5;124m'\u001b[39m, \u001b[38;5;124m'\u001b[39m\u001b[38;5;124mB\u001b[39m\u001b[38;5;124m'\u001b[39m, \u001b[38;5;124m'\u001b[39m\u001b[38;5;124mC\u001b[39m\u001b[38;5;124m'\u001b[39m], \u001b[38;5;124m'\u001b[39m\u001b[38;5;124mValues\u001b[39m\u001b[38;5;124m'\u001b[39m: [\u001b[38;5;241m10\u001b[39m, \u001b[38;5;241m20\u001b[39m, \u001b[38;5;241m30\u001b[39m]}\n\u001b[0;32m      4\u001b[0m fig \u001b[38;5;241m=\u001b[39m px\u001b[38;5;241m.\u001b[39mbar(data, x\u001b[38;5;241m=\u001b[39m\u001b[38;5;124m'\u001b[39m\u001b[38;5;124mCategory\u001b[39m\u001b[38;5;124m'\u001b[39m, y\u001b[38;5;241m=\u001b[39m\u001b[38;5;124m'\u001b[39m\u001b[38;5;124mValues\u001b[39m\u001b[38;5;124m'\u001b[39m, title\u001b[38;5;241m=\u001b[39m\u001b[38;5;124m\"\u001b[39m\u001b[38;5;124mBar Plot\u001b[39m\u001b[38;5;124m\"\u001b[39m)\n",
            "\u001b[1;31mModuleNotFoundError\u001b[0m: No module named 'plotly'"
          ]
        }
      ],
      "source": [
        "# 5. Generate a bar plot using Plotly\n",
        "import plotly.express as px\n",
        "data = {'Category': ['A', 'B', 'C'], 'Values': [10, 20, 30]}\n",
        "fig = px.bar(data, x='Category', y='Values', title=\"Bar Plot\")\n",
        "fig.show()"
      ]
    },
    {
      "cell_type": "code",
      "execution_count": 5,
      "metadata": {
        "colab": {
          "base_uri": "https://localhost:8080/"
        },
        "id": "Ib_ZSL0u7Ov3",
        "outputId": "4f71bae4-3e09-49d2-cb83-3d1b413aa861"
      },
      "outputs": [
        {
          "name": "stdout",
          "output_type": "stream",
          "text": [
            "          A         B         C         D         E\n",
            "0  0.239299  0.741929  0.981228  0.423060  0.756323\n",
            "1  0.959981  0.369562  1.329543  0.542392  0.053213\n",
            "2  0.418964  0.491343  0.910307  0.750623  0.652559\n",
            "3  0.878692  0.042275  0.920967  0.016833  0.473149\n",
            "4  0.353473  0.895788  1.249260  0.311467  0.643583\n"
          ]
        }
      ],
      "source": [
        "# 6. Create a DataFrame and add a new column based on an existing column\n",
        "df['C'] = df['A'] + df['B']\n",
        "print(df)"
      ]
    },
    {
      "cell_type": "code",
      "execution_count": 6,
      "metadata": {
        "colab": {
          "base_uri": "https://localhost:8080/"
        },
        "id": "uatGYMKe7VdE",
        "outputId": "b1e53995-68d1-4189-ce31-141738b3ad7e"
      },
      "outputs": [
        {
          "name": "stdout",
          "output_type": "stream",
          "text": [
            "[ 4 10 18]\n"
          ]
        }
      ],
      "source": [
        "# 7. Element-wise multiplication of two NumPy arrays\n",
        "a = np.array([1, 2, 3])\n",
        "b = np.array([4, 5, 6])\n",
        "result = a * b\n",
        "print(result)"
      ]
    },
    {
      "cell_type": "code",
      "execution_count": 8,
      "metadata": {
        "colab": {
          "base_uri": "https://localhost:8080/",
          "height": 430
        },
        "id": "E3CrrTTJ7dbC",
        "outputId": "01c10c8e-067d-4366-d756-abf07ba15d87"
      },
      "outputs": [
        {
          "data": {
            "image/png": "[encoded data removed]",
            "text/plain": [
              "<Figure size 640x480 with 1 Axes>"
            ]
          },
          "metadata": {},
          "output_type": "display_data"
        }
      ],
      "source": [
        "# 8. Create a line plot with multiple lines using Matplotlib\n",
        "import matplotlib.pyplot as plt\n",
        "x = [1, 2, 3, 4, 5]\n",
        "y1 = [10, 20, 30, 40, 50]\n",
        "y2 = [5, 15, 25, 35, 45]\n",
        "plt.plot(x, y1, label='Line 1')\n",
        "plt.plot(x, y2, label='Line 2')\n",
        "plt.legend()\n",
        "plt.show()"
      ]
    },
    {
      "cell_type": "code",
      "execution_count": 9,
      "metadata": {
        "colab": {
          "base_uri": "https://localhost:8080/"
        },
        "id": "Cp-kWYrr73Bk",
        "outputId": "ac8859ae-3f3c-43ee-f8f1-45dc0927dd2c"
      },
      "outputs": [
        {
          "name": "stdout",
          "output_type": "stream",
          "text": [
            "    A   B\n",
            "2  30  25\n",
            "3  40  35\n"
          ]
        }
      ],
      "source": [
        "# 9. Generate a Pandas DataFrame and filter rows where a column value is greater than a threshold\n",
        "df = pd.DataFrame({'A': [10, 20, 30, 40], 'B': [5, 15, 25, 35]})\n",
        "filtered_df = df[df['A'] > 20]\n",
        "print(filtered_df)"
      ]
    },
    {
      "cell_type": "code",
      "execution_count": 10,
      "metadata": {
        "colab": {
          "base_uri": "https://localhost:8080/",
          "height": 430
        },
        "id": "pmuU2VJ878AW",
        "outputId": "6ea36139-c2bd-400c-e952-c411764b4a08"
      },
      "outputs": [
        {
          "data": {
            "image/png": "[encoded data removed]",
            "text/plain": [
              "<Figure size 640x480 with 1 Axes>"
            ]
          },
          "metadata": {},
          "output_type": "display_data"
        }
      ],
      "source": [
        "# 10. Create a histogram using Seaborn to visualize a distribution\n",
        "data = np.random.randn(100)\n",
        "sns.histplot(data, bins=10, kde=True)\n",
        "plt.show()"
      ]
    },
    {
      "cell_type": "code",
      "execution_count": 11,
      "metadata": {
        "colab": {
          "base_uri": "https://localhost:8080/"
        },
        "id": "NWI4gNzv8Cjr",
        "outputId": "c563b46c-52be-4647-ac5b-29a2e6f8b212"
      },
      "outputs": [
        {
          "name": "stdout",
          "output_type": "stream",
          "text": [
            "[[19 22]\n",
            " [43 50]]\n"
          ]
        }
      ],
      "source": [
        "# 11. Perform matrix multiplication using NumPy\n",
        "A = np.array([[1, 2], [3, 4]])\n",
        "B = np.array([[5, 6], [7, 8]])\n",
        "result = np.dot(A, B)\n",
        "print(result)"
      ]
    },
    {
      "cell_type": "code",
      "execution_count": 17,
      "metadata": {
        "colab": {
          "base_uri": "https://localhost:8080/"
        },
        "collapsed": true,
        "id": "M8x7WWCM8EmC",
        "outputId": "cd1f66cb-d6c6-4c59-a840-5e67b1ded548"
      },
      "outputs": [
        {
          "name": "stdout",
          "output_type": "stream",
          "text": [
            "--2025-02-24 17:15:05--  https://download.mlcc.google.com/mledu-datasets/california_housing_test.csv\n",
            "Resolving download.mlcc.google.com (download.mlcc.google.com)... 142.250.65.99, 2607:f8b0:4025:804::2003\n",
            "Connecting to download.mlcc.google.com (download.mlcc.google.com)|142.250.65.99|:443... connected.\n",
            "HTTP request sent, awaiting response... 302 Found\n",
            "Location: https://dl.google.com/mlcc/mledu-datasets/california_housing_test.csv [following]\n",
            "--2025-02-24 17:15:05--  https://dl.google.com/mlcc/mledu-datasets/california_housing_test.csv\n",
            "Resolving dl.google.com (dl.google.com)... 172.217.12.14, 2607:f8b0:4025:811::200e\n",
            "Connecting to dl.google.com (dl.google.com)|172.217.12.14|:443... connected.\n",
            "HTTP request sent, awaiting response... 200 OK\n",
            "Length: 301141 (294K) [application/octet-stream]\n",
            "Saving to: ‘california_housing_test.csv’\n",
            "\n",
            "california_housing_ 100%[===================>] 294.08K   634KB/s    in 0.5s    \n",
            "\n",
            "2025-02-24 17:15:05 (634 KB/s) - ‘california_housing_test.csv’ saved [301141/301141]\n",
            "\n",
            "   longitude  latitude  housing_median_age  total_rooms  total_bedrooms  \\\n",
            "0    -122.05     37.37                27.0       3885.0           661.0   \n",
            "1    -118.30     34.26                43.0       1510.0           310.0   \n",
            "2    -117.81     33.78                27.0       3589.0           507.0   \n",
            "3    -118.36     33.82                28.0         67.0            15.0   \n",
            "4    -119.67     36.33                19.0       1241.0           244.0   \n",
            "\n",
            "   population  households  median_income  median_house_value  \n",
            "0      1537.0       606.0         6.6085            344700.0  \n",
            "1       809.0       277.0         3.5990            176500.0  \n",
            "2      1484.0       495.0         5.7934            270500.0  \n",
            "3        49.0        11.0         6.1359            330000.0  \n",
            "4       850.0       237.0         2.9375             81700.0  \n"
          ]
        }
      ],
      "source": [
        "# 12. Load a CSV file using Pandas and display the first 5 rows\n",
        "!wget https://download.mlcc.google.com/mledu-datasets/california_housing_test.csv\n",
        "df = pd.read_csv(\"california_housing_test.csv\")\n",
        "print(df.head())"
      ]
    },
    {
      "cell_type": "code",
      "execution_count": 4,
      "metadata": {
        "colab": {
          "base_uri": "https://localhost:8080/",
          "height": 542
        },
        "id": "x9tJg4cS8Lw_",
        "outputId": "e8e70fc0-c28c-4135-ecd0-ce1f54e28811"
      },
      "outputs": [
        {
          "ename": "NameError",
          "evalue": "name 'pd' is not defined",
          "output_type": "error",
          "traceback": [
            "\u001b[1;31m---------------------------------------------------------------------------\u001b[0m",
            "\u001b[1;31mNameError\u001b[0m                                 Traceback (most recent call last)",
            "Cell \u001b[1;32mIn[4], line 2\u001b[0m\n\u001b[0;32m      1\u001b[0m \u001b[38;5;66;03m# 13. Create a 3D scatter plot using Plotly\u001b[39;00m\n\u001b[1;32m----> 2\u001b[0m df \u001b[38;5;241m=\u001b[39m \u001b[43mpd\u001b[49m\u001b[38;5;241m.\u001b[39mDataFrame({\u001b[38;5;124m'\u001b[39m\u001b[38;5;124mx\u001b[39m\u001b[38;5;124m'\u001b[39m: np\u001b[38;5;241m.\u001b[39mrandom\u001b[38;5;241m.\u001b[39mrand(\u001b[38;5;241m50\u001b[39m), \u001b[38;5;124m'\u001b[39m\u001b[38;5;124my\u001b[39m\u001b[38;5;124m'\u001b[39m: np\u001b[38;5;241m.\u001b[39mrandom\u001b[38;5;241m.\u001b[39mrand(\u001b[38;5;241m50\u001b[39m), \u001b[38;5;124m'\u001b[39m\u001b[38;5;124mz\u001b[39m\u001b[38;5;124m'\u001b[39m: np\u001b[38;5;241m.\u001b[39mrandom\u001b[38;5;241m.\u001b[39mrand(\u001b[38;5;241m50\u001b[39m)})\n\u001b[0;32m      3\u001b[0m fig \u001b[38;5;241m=\u001b[39m px\u001b[38;5;241m.\u001b[39mscatter_3d(df, x\u001b[38;5;241m=\u001b[39m\u001b[38;5;124m'\u001b[39m\u001b[38;5;124mx\u001b[39m\u001b[38;5;124m'\u001b[39m, y\u001b[38;5;241m=\u001b[39m\u001b[38;5;124m'\u001b[39m\u001b[38;5;124my\u001b[39m\u001b[38;5;124m'\u001b[39m, z\u001b[38;5;241m=\u001b[39m\u001b[38;5;124m'\u001b[39m\u001b[38;5;124mz\u001b[39m\u001b[38;5;124m'\u001b[39m, title\u001b[38;5;241m=\u001b[39m\u001b[38;5;124m\"\u001b[39m\u001b[38;5;124m3D Scatter Plot\u001b[39m\u001b[38;5;124m\"\u001b[39m)\n\u001b[0;32m      4\u001b[0m fig\u001b[38;5;241m.\u001b[39mshow()\n",
            "\u001b[1;31mNameError\u001b[0m: name 'pd' is not defined"
          ]
        }
      ],
      "source": [
        "# 13. Create a 3D scatter plot using Plotly\n",
        "df = pd.DataFrame({'x': np.random.rand(50), 'y': np.random.rand(50), 'z': np.random.rand(50)})\n",
        "fig = px.scatter_3d(df, x='x', y='y', z='z', title=\"3D Scatter Plot\")\n",
        "fig.show()"
      ]
    }
  ],
  "metadata": {
    "colab": {
      "provenance": []
    },
    "kernelspec": {
      "display_name": "Python 3",
      "name": "python3"
    },
    "language_info": {
      "codemirror_mode": {
        "name": "ipython",
        "version": 3
      },
      "file_extension": ".py",
      "mimetype": "text/x-python",
      "name": "python",
      "nbconvert_exporter": "python",
      "pygments_lexer": "ipython3",
      "version": "3.13.0"
    }
  },
  "nbformat": 4,
  "nbformat_minor": 0
}
